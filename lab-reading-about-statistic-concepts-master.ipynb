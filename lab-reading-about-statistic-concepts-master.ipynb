{
 "cells": [
  {
   "cell_type": "code",
   "execution_count": null,
   "metadata": {},
   "outputs": [],
   "source": [
    "'''\n",
    "Challenge 1: \n",
    "What is the difference between expected value and mean?\n",
    "You know both concepts but, is there a difference? Are they synonims? Start investigating. \n",
    "\n",
    "As a good reference (once you have looked for some information) you have   [this](http://expected.news/value2) article.\n",
    "'''"
   ]
  },
  {
   "cell_type": "code",
   "execution_count": null,
   "metadata": {},
   "outputs": [],
   "source": [
    "# EXPECTED VALUE : is the average value of a random variable over a--> large number of experiments\n",
    "\n",
    "# MEAN: is the sum of all the values / total amound of values --> for only 1 experiment  \n",
    "\n",
    "# but the MEAN of one sample set is also the EXPECTED VALUE of that specific sample set \n",
    "\n",
    "# CONCLUSION: MEAN and EXPECTED VALUE are syniemen "
   ]
  },
  {
   "cell_type": "code",
   "execution_count": null,
   "metadata": {},
   "outputs": [],
   "source": [
    "'''\n",
    "Challenge 2: \n",
    "\n",
    "What is the \"problem\" in science with p-values?\n",
    "\n",
    "We have told you that a lot of scientifical investigations are based on p-values. \n",
    "The last week, Nature magazine published [an article](http://nature.social/statistical4) \n",
    "regarding the problem. Start digging on it!\n",
    "\n",
    "Don't hesitate to use more articles if you want to :)\n",
    "\n",
    "'''"
   ]
  },
  {
   "cell_type": "code",
   "execution_count": null,
   "metadata": {},
   "outputs": [],
   "source": [
    "# \"problem\" in science with p-values: \n",
    "\n",
    "'''\n",
    "For several generations, researchers have been warned that \n",
    "a statistically -->NON-significant result does not ‘prove’ the null hypothesis \n",
    "\n",
    "Nor do statistically --> Significant results ‘prove’ some other hypothesis.\n",
    "\n",
    "\n",
    "'''\n",
    "\n"
   ]
  }
 ],
 "metadata": {
  "kernelspec": {
   "display_name": "Python 3",
   "language": "python",
   "name": "python3"
  },
  "language_info": {
   "codemirror_mode": {
    "name": "ipython",
    "version": 3
   },
   "file_extension": ".py",
   "mimetype": "text/x-python",
   "name": "python",
   "nbconvert_exporter": "python",
   "pygments_lexer": "ipython3",
   "version": "3.7.4"
  }
 },
 "nbformat": 4,
 "nbformat_minor": 2
}
