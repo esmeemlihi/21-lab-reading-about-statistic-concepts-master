{
 "cells": [
  {
   "cell_type": "code",
   "execution_count": null,
   "metadata": {},
   "outputs": [],
   "source": [
    "'''\n",
    "Challenge 1: \n",
    "What is the difference between expected value and mean?\n",
    "You know both concepts but, is there a difference? Are they synonims? Start investigating. \n",
    "\n",
    "As a good reference (once you have looked for some information) you have   [this](http://expected.news/value2) article.\n",
    "'''"
   ]
  },
  {
   "cell_type": "code",
   "execution_count": null,
   "metadata": {},
   "outputs": [],
   "source": [
    "# EXPECTED VALUE : is the average value of a random variable over a--> large number of experiments\n",
    "\n",
    "# MEAN: is the sum of all the values / total amound of values --> for only 1 experiment  \n",
    "\n",
    "# but the MEAN of one sample set is also the EXPECTED VALUE of that specific sample set \n",
    "\n",
    "# CONCLUSION: MEAN and EXPECTED VALUE are syniemen "
   ]
  },
  {
   "cell_type": "code",
   "execution_count": null,
   "metadata": {},
   "outputs": [],
   "source": [
    "'''\n",
    "Challenge 2: \n",
    "\n",
    "What is the \"problem\" in science with p-values?\n",
    "\n",
    "We have told you that a lot of scientifical investigations are based on p-values. \n",
    "The last week, Nature magazine published [an article](http://nature.social/statistical4) \n",
    "regarding the problem. Start digging on it!\n",
    "\n",
    "Don't hesitate to use more articles if you want to :)\n",
    "\n",
    "'''"
   ]
  },
  {
   "cell_type": "code",
   "execution_count": null,
   "metadata": {},
   "outputs": [],
   "source": [
    "# \"problem\" in science with p-values: \n",
    "# ITS ALL ABOUT NUANCE IN TEH CONLCUSIONS AND USING THE SIGHT VOCABULARY \n",
    "'''\n",
    "ANSWER VIA SUMMARY QOUTES OF THE ARTICLE \n",
    "\n",
    "One practical way to do so is to rename confidence intervals as ‘compatibility intervals’ \n",
    "and interpret them in a way that avoids overconfidence.\n",
    "\n",
    "That said, if you deem all of the values inside the interval to be practically unimportant, \n",
    "you might then be able to say something like ‘our results \n",
    "are most compatible with no important effect’.\n",
    "\n",
    "When talking about compatibility intervals, bear in mind four things.\n",
    "\n",
    "1) Relativate the meaning values inside and oudside the interval   \n",
    "\n",
    "First, just because the interval gives the values most compatible with the data, \n",
    "given the assumptions, it doesn’t mean values outside it are incompatible; \n",
    "they are just less compatible.\n",
    "\n",
    "2) Discuss the point estimate\n",
    "\n",
    "Not all values inside are equally compatible with the data, given the assumptions. \n",
    "The point estimate is the most compatible, \n",
    "and values near it are more compatible than those near the limits.\n",
    "\n",
    "3) 0.05 threshold  statent i do not understand..? \n",
    "\n",
    "4) Be humble\n",
    "\n",
    "In practice, these assumptions are at best subject to considerable uncertainty\n",
    "Make these assumptions as clear as possible and test the ones you can, \n",
    "for example by plotting your data and by fitting alternative models, \n",
    "and then reporting all results.\n",
    "\n",
    "\n",
    "P values, intervals and other statistical measures all have their place, \n",
    "but it’s time for statistical significance to go.\n",
    "'''\n",
    "\n",
    "#CONCLUSION: WE HAVE TO GO FORM 'statistical significance' TO 'compatibility intervals'\n"
   ]
  }
 ],
 "metadata": {
  "kernelspec": {
   "display_name": "Python 3",
   "language": "python",
   "name": "python3"
  },
  "language_info": {
   "codemirror_mode": {
    "name": "ipython",
    "version": 3
   },
   "file_extension": ".py",
   "mimetype": "text/x-python",
   "name": "python",
   "nbconvert_exporter": "python",
   "pygments_lexer": "ipython3",
   "version": "3.7.4"
  }
 },
 "nbformat": 4,
 "nbformat_minor": 2
}
